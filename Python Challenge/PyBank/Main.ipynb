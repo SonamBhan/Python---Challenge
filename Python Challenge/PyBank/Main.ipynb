{
 "cells": [
  {
   "cell_type": "code",
   "execution_count": 8,
   "id": "1a76c9b4-f3b9-4cd8-b7ba-5bc36ecefea7",
   "metadata": {},
   "outputs": [
    {
     "name": "stdout",
     "output_type": "stream",
     "text": [
      "Financial Analysis\n",
      "--------------------\n",
      "Total Months: 86\n",
      "Total: $38382578\n",
      "Average Change: $-2315.12\n",
      "Greatest Increase in Profits: Feb-2012 ($1926159)\n",
      "Greatest Descrease in Profits: Sep-2013 ($-2196167)\n"
     ]
    }
   ],
   "source": [
    "import os\n",
    "import csv\n",
    "\n",
    "months = []\n",
    "profit = []\n",
    "average_net_change = 0\n",
    "total_months = 0\n",
    "net_change = []\n",
    "\n",
    "csvpath = os.path.join('Resources', 'budget_data.csv')\n",
    "\n",
    "with open(csvpath, newline=\"\") as csvfile:\n",
    "    csvreader = csv.reader(csvfile, delimiter=\",\")\n",
    "    reader = csv.reader(csvfile)\n",
    "    next(reader, None)\n",
    "\n",
    "    \n",
    "    for row in reader:\n",
    "        month = row[0]\n",
    "        months.append(month)\n",
    "        values = int(row[1])\n",
    "        profit.append(values)\n",
    "\n",
    "total_months = len(months)\n",
    "net_total = sum(profit)\n",
    "net_total_months = len(months) - 1\n",
    "difference_budget_data = []\n",
    "\n",
    "for i in range(len(profit) - 1):\n",
    "    difference_budget_data.append(float(profit[i + 1]) - float(profit[i]))\n",
    "    new_net_total = sum(difference_budget_data)\n",
    "\n",
    "\n",
    "average_net_change = new_net_total/net_total_months\n",
    "\n",
    "\n",
    "min_profit = profit[profit.index(min(profit))] - profit[profit.index(min(profit))-1]\n",
    "max_profit = profit[profit.index(max(profit))] - profit[profit.index(max(profit))-1]\n",
    "\n",
    "\n",
    "print(\"Financial Analysis\")\n",
    "print(\"--------------------\")\n",
    "print(f\"Total Months: {total_months}\")\n",
    "print(f\"Total: ${net_total}\")\n",
    "print(f\"Average Change: ${round(average_net_change,2)}\")\n",
    "print(f\"Greatest Increase in Profits: {months[profit.index(max(profit))]} (${max_profit})\")\n",
    "print(f\"Greatest Descrease in Profits: {months[profit.index(min(profit))]} (${min_profit})\")\n",
    "\n",
    "\n",
    "output_file = 'Analysis/financial_analysis.txt'\n",
    "with open(output_file, \"w\", newline=\"\") as datafile:\n",
    "    csvwriter = csv.writer(datafile)\n",
    "    csvwriter.writerow([\"Financial Analysis\"])\n",
    "    csvwriter.writerow([\"--------------------\"])\n",
    "    csvwriter.writerow([f\"Total Months: {total_months}\"])\n",
    "    csvwriter.writerow([f\"Total: ${net_total}\"])\n",
    "    csvwriter.writerow([f\"Average Change: ${round(average_net_change,2)}\"])\n",
    "    csvwriter.writerow([f\"Greatest Increase in Profits: {months[profit.index(max(profit))]} (${max_profit})\"])\n",
    "    csvwriter.writerow([f\"Greatest Decrease in Profits: {months[profit.index(min(profit))]} (${min_profit})\"])"
   ]
  },
  {
   "cell_type": "code",
   "execution_count": null,
   "id": "406ec4e8-e2cf-46e3-973b-8efa7b5bf207",
   "metadata": {},
   "outputs": [],
   "source": []
  }
 ],
 "metadata": {
  "kernelspec": {
   "display_name": "Python 3",
   "language": "python",
   "name": "python3"
  },
  "language_info": {
   "codemirror_mode": {
    "name": "ipython",
    "version": 3
   },
   "file_extension": ".py",
   "mimetype": "text/x-python",
   "name": "python",
   "nbconvert_exporter": "python",
   "pygments_lexer": "ipython3",
   "version": "3.8.8"
  }
 },
 "nbformat": 4,
 "nbformat_minor": 5
}
