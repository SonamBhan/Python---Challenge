{
 "cells": [
  {
   "cell_type": "code",
   "execution_count": 8,
   "id": "d371cbd9-580e-490e-b0cc-3896d5f3963a",
   "metadata": {},
   "outputs": [
    {
     "name": "stdout",
     "output_type": "stream",
     "text": [
      "Election results\n",
      "\n",
      "------------------\n",
      "\n",
      "Total Votes: 1\n",
      "\n",
      "-------------------\n",
      "\n",
      "Khan: 100.000% (1)\n",
      "\n"
     ]
    },
    {
     "ename": "ValueError",
     "evalue": "I/O operation on closed file.",
     "output_type": "error",
     "traceback": [
      "\u001b[0;31m---------------------------------------------------------------------------\u001b[0m",
      "\u001b[0;31mValueError\u001b[0m                                Traceback (most recent call last)",
      "\u001b[0;32m<ipython-input-8-a1baeb751095>\u001b[0m in \u001b[0;36m<module>\u001b[0;34m\u001b[0m\n\u001b[1;32m     45\u001b[0m \u001b[0;34m\u001b[0m\u001b[0m\n\u001b[1;32m     46\u001b[0m             \u001b[0mprint\u001b[0m\u001b[0;34m(\u001b[0m\u001b[0;34mf\"{candidate}: {percentage:.3%} ({candidate_dict[candidate]})\\n\"\u001b[0m\u001b[0;34m)\u001b[0m\u001b[0;34m\u001b[0m\u001b[0;34m\u001b[0m\u001b[0m\n\u001b[0;32m---> 47\u001b[0;31m             \u001b[0mdatafile\u001b[0m\u001b[0;34m.\u001b[0m\u001b[0mwrite\u001b[0m\u001b[0;34m(\u001b[0m\u001b[0;34mf\"{candidate}: {percentage:.3%} ({candidate_dict[candidate]})\\n\"\u001b[0m\u001b[0;34m)\u001b[0m\u001b[0;34m\u001b[0m\u001b[0;34m\u001b[0m\u001b[0m\n\u001b[0m\u001b[1;32m     48\u001b[0m \u001b[0;34m\u001b[0m\u001b[0m\n\u001b[1;32m     49\u001b[0m             \u001b[0mvotes\u001b[0m \u001b[0;34m=\u001b[0m \u001b[0mcandidate_dict\u001b[0m\u001b[0;34m[\u001b[0m\u001b[0mcandidate\u001b[0m\u001b[0;34m]\u001b[0m\u001b[0;34m\u001b[0m\u001b[0;34m\u001b[0m\u001b[0m\n",
      "\u001b[0;31mValueError\u001b[0m: I/O operation on closed file."
     ]
    }
   ],
   "source": [
    "import os\n",
    "import csv\n",
    "\n",
    "csvpath = os.path.join('Resources', 'election_data.csv')\n",
    "\n",
    "total_votes = 0\n",
    "candidate_list = []\n",
    "candidate_dict = {}\n",
    "\n",
    "winning_vote = 0\n",
    "winner = \"\"\n",
    "\n",
    "with open(csvpath, newline=\"\") as csvfile:\n",
    "    \n",
    "    csvreader = csv.reader(csvfile, delimiter=\",\")\n",
    "    reader = csv.reader(csvfile)\n",
    "    next(reader, None)\n",
    "    \n",
    "    \n",
    "    for row in reader: \n",
    "        total_votes += 1\n",
    "        candidate = row[2]\n",
    "        \n",
    "        if candidate not in candidate_list: \n",
    "            candidate_list.append(candidate)\n",
    "            candidate_dict[candidate] = 0\n",
    "            \n",
    "            candidate_dict[candidate] +=1\n",
    "            \n",
    "        output_file = 'Analysis/election_results.txt'\n",
    "        with open(output_file, \"w\", newline=\"\") as datafile: \n",
    "            print(f\"Election results\\n\")\n",
    "            print(f\"------------------\\n\")\n",
    "            print(f\"Total Votes: {total_votes}\\n\")\n",
    "            print(f\"-------------------\\n\")\n",
    "            \n",
    "            \n",
    "            datafile.write(f\"Election Results\\n\")\n",
    "            datafile.write(f\"--------------------\\n\")\n",
    "            datafile.write(f\"Total Votes: {total_votes}\\n\")\n",
    "            datafile.write(f\"--------------------\\n\")\n",
    "            \n",
    "        for candidate in candidate_dict:\n",
    "            percentage = round(float(candidate_dict[candidate])/float(total_votes),2)\n",
    "            \n",
    "            print(f\"{candidate}: {percentage:.3%} ({candidate_dict[candidate]})\\n\")\n",
    "            datafile.write(f\"{candidate}: {percentage:.3%} ({candidate_dict[candidate]})\\n\")\n",
    "            \n",
    "            votes = candidate_dict[candidate]\n",
    "            if votes > winning_vote:\n",
    "                winning_vote = votes\n",
    "                winner = candidate\n",
    "            \n",
    "        print(f\"------------------\")\n",
    "        print(f\"Winner: {winner}\")\n",
    "        print(f\"--------------------\")\n",
    "        \n",
    "        datafile.write(f\"--------------------\\n\")\n",
    "        datafile.write(f\"Winner: {winner}\\n\")\n",
    "        datafile.write(f\"--------------------\")\n",
    "        \n",
    "        \n",
    "            \n",
    "            \n"
   ]
  },
  {
   "cell_type": "code",
   "execution_count": null,
   "id": "a5afdbd7-cbe4-4353-8406-2b89478d6302",
   "metadata": {},
   "outputs": [],
   "source": []
  }
 ],
 "metadata": {
  "kernelspec": {
   "display_name": "Python 3",
   "language": "python",
   "name": "python3"
  },
  "language_info": {
   "codemirror_mode": {
    "name": "ipython",
    "version": 3
   },
   "file_extension": ".py",
   "mimetype": "text/x-python",
   "name": "python",
   "nbconvert_exporter": "python",
   "pygments_lexer": "ipython3",
   "version": "3.8.8"
  }
 },
 "nbformat": 4,
 "nbformat_minor": 5
}
